{
  "nbformat": 4,
  "nbformat_minor": 0,
  "metadata": {
    "colab": {
      "provenance": [],
      "include_colab_link": true
    },
    "kernelspec": {
      "name": "python3",
      "display_name": "Python 3"
    },
    "language_info": {
      "name": "python"
    }
  },
  "cells": [
    {
      "cell_type": "markdown",
      "metadata": {
        "id": "view-in-github",
        "colab_type": "text"
      },
      "source": [
        "<a href=\"https://colab.research.google.com/github/AyeChanAung205/-business-data/blob/main/Assignment_MFU_Classification.ipynb\" target=\"_parent\"><img src=\"https://colab.research.google.com/assets/colab-badge.svg\" alt=\"Open In Colab\"/></a>"
      ]
    },
    {
      "cell_type": "markdown",
      "source": [
        "# Assignment : Compare three classification algorithms (KNN, Decision Tree, and Neural Network) and predict the new case.\n",
        "*   Dataset: car evaluation Dataset https://www.kaggle.com/code/prashant111/decision-tree-classifier-tutorial/notebook\n",
        "*   Goal: Find accuracy each algorithm and predict the new case (finding the predicting answer)\n",
        "*   Please send 1) The correct answer (?) as shown in Table and 2) The source code as .ipynb"
      ],
      "metadata": {
        "id": "8brNyT_h79V5"
      }
    },
    {
      "cell_type": "code",
      "source": [
        "#Step 1: Import Libraries and Load Data\n",
        "import numpy as np\n",
        "import pandas as pd\n",
        "import matplotlib.pyplot as plt\n",
        "\n",
        "from sklearn.model_selection import train_test_split\n",
        "from sklearn.preprocessing import StandardScaler\n",
        "from sklearn.preprocessing import OneHotEncoder # Import OneHotEncoder\n",
        "from sklearn.compose import ColumnTransformer\n",
        "from sklearn.neighbors import KNeighborsClassifier\n",
        "from sklearn.tree import DecisionTreeClassifier\n",
        "from sklearn.neural_network import MLPClassifier\n",
        "from sklearn.svm import SVC\n",
        "from sklearn.metrics import classification_report, accuracy_score, confusion_matrix\n"
      ],
      "metadata": {
        "id": "5uFs6iBZ8-OS"
      },
      "execution_count": null,
      "outputs": []
    },
    {
      "cell_type": "code",
      "source": [
        "# Load car evaluation dataset\n",
        "car = '/content/sample_data/car_evaluation.csv'\n",
        "df = pd.read_csv(car )\n",
        "df.head()\n",
        "\n",
        "X = df.drop('Target', axis=1)\n",
        "y = df['Target']\n",
        "\n",
        "# Convert to DataFrame for analysis\n",
        "print(df.head())\n",
        "print(df.describe())\n",
        "print(\"Label Encoding:\\n\", df['Target'].value_counts())\n"
      ],
      "metadata": {
        "colab": {
          "base_uri": "https://localhost:8080/"
        },
        "id": "kk4z8UJ4APzT",
        "outputId": "498d668f-9a98-46a2-9d78-fb8459daac4b"
      },
      "execution_count": null,
      "outputs": [
        {
          "output_type": "stream",
          "name": "stdout",
          "text": [
            "  buying  maint doors persons lug_boot safety Target\n",
            "0  vhigh  vhigh     2       2    small    low  unacc\n",
            "1  vhigh  vhigh     2       2    small    med  unacc\n",
            "2  vhigh  vhigh     2       2    small   high  unacc\n",
            "3  vhigh  vhigh     2       2      med    low  unacc\n",
            "4  vhigh  vhigh     2       2      med    med  unacc\n",
            "       buying  maint doors persons lug_boot safety Target\n",
            "count    1728   1728  1728    1728     1728   1728   1728\n",
            "unique      4      4     4       3        3      3      4\n",
            "top     vhigh  vhigh     2       2    small    low  unacc\n",
            "freq      432    432   432     576      576    576   1210\n",
            "Label Encoding:\n",
            " safety\n",
            "low     576\n",
            "med     576\n",
            "high    576\n",
            "Name: count, dtype: int64\n"
          ]
        }
      ]
    },
    {
      "cell_type": "code",
      "source": [
        "#Step 2: Preprocess Data\n",
        "\n",
        "# Define categorical and numerical features\n",
        "categorical_features = ['buying', 'maint', 'doors', 'persons', 'lug_boot', 'safety']\n",
        "numerical_features = []  # No numerical features in this dataset\n",
        "\n",
        "# Create a ColumnTransformer to apply different preprocessing to different columns\n",
        "preprocessor = ColumnTransformer(\n",
        "    transformers=[\n",
        "        ('num', StandardScaler(), numerical_features),  # Apply StandardScaler to numerical features (if any)\n",
        "        ('cat', OneHotEncoder(sparse_output=False, handle_unknown='ignore'), categorical_features),  # Apply OneHotEncoder to categorical features\n",
        "    ])\n",
        "# Apply the preprocessing to the features\n",
        "X_preprocess = preprocessor.fit_transform(X)\n",
        "\n",
        "#Step 3: Train-Test Split\n",
        "#Please code here (1) !\n",
        "\n",
        "\n",
        "# Standardize features\n",
        "scaler = StandardScaler()\n",
        "X_train = scaler.fit_transform(X_train)\n",
        "X_test = scaler.transform(X_test)\n",
        "\n",
        "\n",
        "#Step 4: Train model\n",
        "#Please code here (2) !\n",
        "#Please code here (3) !\n",
        "\n",
        "\n",
        "#Step 4: Evaluate the Model or Predict on test data\n",
        "#Please code here (4) !\n",
        "\n",
        "# Evaluation\n",
        "#Please code here (5) ! show accuracy\n",
        "#Please code here (6) ! show classificaiton report\n"
      ],
      "metadata": {
        "id": "I-S7TsyT-qlm"
      },
      "execution_count": null,
      "outputs": []
    },
    {
      "cell_type": "code",
      "source": [
        "#Step 5: Predict the new case\n",
        "# Select only numerical features from the new sample\n",
        "#['buying', 'maint', 'doors', 'persons', 'lug_boot']\n",
        "\n",
        "new_sample = [['vhigh','vhigh','2','2','small','low']] # Changed 2 to '2' for doors and persons\n",
        "new_sample_transformed = preprocessor.transform(pd.DataFrame(new_sample, columns=['buying', 'maint', 'doors', 'persons', 'lug_boot', 'safety']))\n",
        "\n",
        "# Scale the numerical features of the new sample\n",
        "new_sample_scaled = scaler.transform(new_sample_transformed)\n",
        "\n",
        "# Predict class\n",
        "#Please code here (7) ! call model to predict\n",
        "#Please code here (8) ! call the predictive result\n"
      ],
      "metadata": {
        "id": "4Z7S1weF-zI7"
      },
      "execution_count": null,
      "outputs": []
    }
  ]
}
{
  "nbformat": 4,
  "nbformat_minor": 0,
  "metadata": {
    "colab": {
      "provenance": [],
      "include_colab_link": true
    },
    "kernelspec": {
      "name": "python3",
      "display_name": "Python 3"
    },
    "language_info": {
      "name": "python"
    }
  },
  "cells": [
    {
      "cell_type": "markdown",
      "metadata": {
        "id": "view-in-github",
        "colab_type": "text"
      },
      "source": [
        "<a href=\"https://colab.research.google.com/github/AyeChanAung205/-business-data/blob/main/MS_MFU_DataPreparation_Part3.ipynb\" target=\"_parent\"><img src=\"https://colab.research.google.com/assets/colab-badge.svg\" alt=\"Open In Colab\"/></a>"
      ]
    },
    {
      "cell_type": "markdown",
      "source": [
        "# Data Splitting\n",
        "Here’s an example using scikit-learn and a sample dataset:"
      ],
      "metadata": {
        "id": "67qIXezlEeyH"
      }
    },
    {
      "cell_type": "code",
      "execution_count": null,
      "metadata": {
        "id": "LsEaHYl8EX4B",
        "outputId": "12eb0c0f-8962-4697-8f4b-d6d0d0056c49",
        "colab": {
          "base_uri": "https://localhost:8080/"
        }
      },
      "outputs": [
        {
          "output_type": "stream",
          "name": "stdout",
          "text": [
            "Training Set: (800, 3)\n",
            "Validation Set: (100, 3)\n",
            "Test Set: (100, 3)\n"
          ]
        }
      ],
      "source": [
        "from sklearn.model_selection import train_test_split\n",
        "import pandas as pd\n",
        "import numpy as np\n",
        "\n",
        "# Simulated dataset\n",
        "np.random.seed(42)\n",
        "data_size = 1000\n",
        "data = pd.DataFrame({\n",
        "    'feature1': np.random.rand(data_size),\n",
        "    'feature2': np.random.rand(data_size),\n",
        "    'target': np.random.randint(0, 2, data_size)\n",
        "})\n",
        "\n",
        "# Step 1: Split into Training (80%) and Temp (20%)\n",
        "train_set, temp_set = train_test_split(data, test_size=0.2, random_state=42)\n",
        "\n",
        "# Step 2: Split Temp into Validation (50%) and Test (50%) - each gets 10% of the full dataset\n",
        "val_set, test_set = train_test_split(temp_set, test_size=0.5, random_state=42)\n",
        "\n",
        "# Display the dataset sizes\n",
        "print(f\"Training Set: {train_set.shape}\")\n",
        "print(f\"Validation Set: {val_set.shape}\")\n",
        "print(f\"Test Set: {test_set.shape}\")\n"
      ]
    }
  ]
}
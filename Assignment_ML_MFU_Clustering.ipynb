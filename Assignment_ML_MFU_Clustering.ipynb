{
  "nbformat": 4,
  "nbformat_minor": 0,
  "metadata": {
    "colab": {
      "provenance": [],
      "include_colab_link": true
    },
    "kernelspec": {
      "name": "python3",
      "display_name": "Python 3"
    },
    "language_info": {
      "name": "python"
    }
  },
  "cells": [
    {
      "cell_type": "markdown",
      "metadata": {
        "id": "view-in-github",
        "colab_type": "text"
      },
      "source": [
        "<a href=\"https://colab.research.google.com/github/AyeChanAung205/-business-data/blob/main/Assignment_ML_MFU_Clustering.ipynb\" target=\"_parent\"><img src=\"https://colab.research.google.com/assets/colab-badge.svg\" alt=\"Open In Colab\"/></a>"
      ]
    },
    {
      "cell_type": "markdown",
      "source": [
        "Instructions:\n",
        "  * Load and explore the dataset. (https://www.kaggle.com/datasets/vjchoudhary7/customer-segmentation-tutorial-in-python\n",
        ")\n",
        "  * Perform necessary data preprocessing (if required).\n",
        "  * Implement k-Means Clustering.\n",
        "  * Implement Hierarchical Clustering.\n",
        "  * Visualize the clustering results.\n",
        "  * Compare the performance of the clustering techniques.\n",
        "  * Provide a conclusion based on your findings.\n"
      ],
      "metadata": {
        "id": "nqNEAy6fC9If"
      }
    },
    {
      "cell_type": "code",
      "execution_count": null,
      "metadata": {
        "id": "vLMYeYTfC7U5"
      },
      "outputs": [],
      "source": [
        "import numpy as np\n",
        "import pandas as pd\n",
        "import matplotlib.pyplot as plt\n",
        "import seaborn as sns\n",
        "from sklearn.preprocessing import StandardScaler\n",
        "from sklearn.cluster import KMeans, AgglomerativeClustering\n",
        "from sklearn.metrics import silhouette_score\n",
        "from scipy.cluster.hierarchy import dendrogram, linkage\n",
        "\n",
        "# Load the dataset\n",
        "# PLEASE code here...[1]...\n",
        "\n",
        "# Show the head of column\n",
        "# PLEASE code here...[2]...\n",
        "\n",
        "\n",
        "# Data Preprocessing (if necessary)\n",
        "# Selecting relevant features for clustering\n",
        "X = df.iloc[:, [2, 3]].values  # Adjust column indices as required\n",
        "\n",
        "# Feature Scaling and transform the form with StandScaler\n",
        "# PLEASE code here...[3]...\n",
        "# PLEASE code here...[4]...\n",
        "\n",
        "\n",
        "# ========================================\n",
        "# 1. K-Means Clustering\n",
        "# ========================================\n",
        "\n",
        "# Finding the optimal number of clusters using Elbow Method\n",
        "wcss = []\n",
        "for i in range(1, 11):\n",
        "    kmeans = KMeans(n_clusters=i, init='k-means++', random_state=42)\n",
        "    kmeans.fit(X_scaled)\n",
        "    wcss.append(kmeans.inertia_)\n",
        "\n",
        "# Plotting the Elbow Graph\n",
        "plt.figure(figsize=(10, 5))\n",
        "plt.plot(range(1, 11), wcss, marker='o')\n",
        "plt.title('Elbow Method For Optimal k')\n",
        "plt.xlabel('Number of Clusters')\n",
        "plt.ylabel('WCSS')\n",
        "plt.show()\n",
        "\n",
        "# Training K-Means Model with the optimal number of clusters\n",
        "# PLEASE code here...[5]... training K-Means and set cluster to 3\n",
        "# PLEASE code here...[6]... call model for fitting and predict to y_kmeans\n",
        "\n",
        "\n",
        "# Visualizing K-Means Clustering\n",
        "plt.figure(figsize=(10, 5))\n",
        "plt.scatter(X_scaled[y_kmeans == 0, 0], X_scaled[y_kmeans == 0, 1], s=50, label='Cluster 1')\n",
        "plt.scatter(X_scaled[y_kmeans == 1, 0], X_scaled[y_kmeans == 1, 1], s=50, label='Cluster 2')\n",
        "plt.scatter(X_scaled[y_kmeans == 2, 0], X_scaled[y_kmeans == 2, 1], s=50, label='Cluster 3')\n",
        "plt.scatter(kmeans.cluster_centers_[:, 0], kmeans.cluster_centers_[:, 1], s=200, c='red', label='Centroids')\n",
        "plt.title('k-Means Clustering')\n",
        "plt.legend()\n",
        "plt.show()\n",
        "\n",
        "# ========================================\n",
        "# 2. Hierarchical Clustering\n",
        "# ========================================\n",
        "\n",
        "# Generating the linkage matrix for Dendrogram\n",
        "linkage_matrix = linkage(X_scaled, method='ward')\n",
        "\n",
        "# Plotting Dendrogram\n",
        "# PLEASE code here...[7-12]...\n",
        "\n",
        "\n",
        "# Fitting Hierarchical Clustering model\n",
        "# PLEASE code here...[13]... training AgglomerativeClustering and set cluster to 3\n",
        "# PLEASE code here...[14]... call model for fitting and predict to y_hc\n",
        "\n",
        "\n",
        "# Visualizing Hierarchical Clustering\n",
        "plt.figure(figsize=(10, 5))\n",
        "plt.scatter(X_scaled[y_hc == 0, 0], X_scaled[y_hc == 0, 1], s=50, label='Cluster 1')\n",
        "plt.scatter(X_scaled[y_hc == 1, 0], X_scaled[y_hc == 1, 1], s=50, label='Cluster 2')\n",
        "plt.scatter(X_scaled[y_hc == 2, 0], X_scaled[y_hc == 2, 1], s=50, label='Cluster 3')\n",
        "plt.title('Hierarchical Clustering')\n",
        "plt.legend()\n",
        "plt.show()\n",
        "\n",
        "# ========================================\n",
        "# 3. Comparing Performance\n",
        "# ========================================\n",
        "\n",
        "# Calculate Silhouette Score for each model\n",
        "kmeans_silhouette = silhouette_score(X_scaled, y_kmeans)\n",
        "hierarchical_silhouette = silhouette_score(X_scaled, y_hc)\n",
        "\n",
        "print(f'Silhouette Score for k-Means: {kmeans_silhouette:.4f}')\n",
        "print(f'Silhouette Score for Hierarchical Clustering: {hierarchical_silhouette:.4f}')\n"
      ]
    }
  ]
}